{
  "cells": [
    {
      "cell_type": "markdown",
      "metadata": {
        "id": "40moaFPgeIfB"
      },
      "source": [
        "# Apple Stock Predictor"
      ]
    },
    {
      "cell_type": "markdown",
      "metadata": {
        "id": "xmlwzkTBeIfD"
      },
      "source": [
        "## By Derrick Lin"
      ]
    },
    {
      "cell_type": "markdown",
      "metadata": {
        "id": "JQ7wEluveIfD"
      },
      "source": [
        "# Abstract\n",
        "<!--This section should be short and clearly stated. It should be a single paragraph <200 words.  It should summarize:\n",
        "- what your goal/problem is\n",
        "- what the data used represents\n",
        "- the solution/what you did\n",
        "- major results you came up with (mention how results are measured)\n",
        "\n",
        "__NB:__ this final project form is much more report-like than the proposal and the checkpoint. Think in terms of writing a paper with bits of code in the middle to make the plots/tables-->\n",
        "\n",
        "Our goal is to evaluate the effectiveness of unsupervised machine learning in categorizing stocks based on risk-return profiles to optimize investment portfolios. We use historical stock market data, including daily prices, volatility, and financial ratios, to represent stock characteristics. Through clustering techniques and dimensionality reduction, we hope to identify distinct categories that reflect different risk-return dynamics. Additionally, performance will be measured by evaluating portfolio stability compared to traditional methods, which will show us how useful unsupervised learning is for predicting stocks in real-world scenarios.\n",
        "\n",
        "In this study, we offer specific insights into applying unsupervised learning for stock prediction, focusing on Apple Inc's data from 1980 to 2022. Our analysis compares the predictive accuracy of an ARIMA model against a naive benchmark, which shows nearly identical mean squared error (MSE) and root mean squared error (RMSE). This research highlights the need to use complex algorithms in stock price prediction and provides a framework for using unsupervised learning techniques in portfolio optimization."
      ]
    },
    {
      "cell_type": "markdown",
      "metadata": {
        "id": "1h-APqNaeIfD"
      },
      "source": [
        "# Background\n",
        "\n",
        "<!--Fill in the background and discuss the kind of prior work that has gone on in this research area here. **Use inline citation** to specify which references support which statements.  You can do that through HTML footnotes (demonstrated here). I used to reccommend Markdown footnotes (google is your friend) because they are simpler but recently I have had some problems with them working for me whereas HTML ones always work so far. So use the method that works for you, but do use inline citations.\n",
        "\n",
        "Here is an example of inline citation. After government genocide in the 20th century, real birds were replaced with surveillance drones designed to look just like birds<a name=\"lorenz\"></a>[<sup>[1]</sup>](#lorenznote). Use a minimum of 2 or 3 citations, but we prefer more <a name=\"admonish\"></a>[<sup>[2]</sup>](#admonishnote). You need enough citations to fully explain and back up important facts.\n",
        "\n",
        "Remeber you are trying to explain why someone would want to answer your question or why your hypothesis is in the form that you've stated. -->\n",
        "\n",
        "A stock market is a market where people are able to purchase shares from public companies. These shares can help an individual gain profits, the company to raise capital, and provide people a way to invest in companies they believe have potential<a name=\"simplilearn\"></a>[<sup>[1]</sup>](#simplilearn). It is for these reasons that finding a way to predict how stock market prices may change is crucial.\n",
        "\n",
        "The stock market is known to be extremely unpredictable and full of unknown variables, which can influence stock prices one way or another.  For many years, researchers have been working to try to predict stock prices. However, this has been quite difficult with the presence of unexpected variables like the pandemic<a name=\"projectpro\"></a>[<sup>[2]</sup>](#projectpro). Therefore, analysts have instead tried to focus on short term predictions that estimate how the stock market could’ve changed. Since the stock market is so complex considering the many variables influencing its change, AI steps in to help us process these variables.\n",
        "\n",
        "There are already several different types of models used to predict the stock market, and two different ways to analyze the stocks. Fundamental analysis looks at a company stock’s intrinsic value and analyzes historical as well as current data. They are used mainly with long-term investments. Technical analysis looks at measurable data of the stock activities as well as analyzing present and historical data for short-term investments<a name=\"neptuneai\"></a>[<sup>[3]</sup>](#neptuneai). In addition, technical analysis is influenced by current news while fundamental analysis is not really affected by them. In the case of Neptune a.i, they have chosen to use technical analysis with a Long Short Term Memory framework to build a model to predict the stock market.\n",
        "\n",
        "South Dakota State University has also developed their own A.I model, dubbed “ALERTA-NET” where they have incorporated macroeconomic data in their model which have resulted in more accurate predictions<a name=\"sdsu\"></a>[<sup>[4]</sup>](#sdsu). It is examples like these that stand to prove that researchers are still looking to build models that can predict the stock market with higher accuracy. The uncertainty of the stock market makes this task so difficult, and the importance of the stock market in terms of the economy as well as profits makes the pursuit of accurate stock market prediction models so crucial."
      ]
    },
    {
      "cell_type": "markdown",
      "metadata": {
        "id": "lBjktXobeIfD"
      },
      "source": [
        "# Problem Statement\n",
        "\n",
        "<!--Clearly describe the problem that you are solving. Avoid ambiguous words. The problem described should be well defined and should have at least one ML-relevant potential solution. Additionally, describe the problem thoroughly such that it is clear that the problem is quantifiable (the problem can be expressed in mathematical or logical terms), measurable (the problem can be measured by some metric and clearly observed), and replicable (the problem can be reproduced and occurs more than once). -->\n",
        "\n",
        "Our objective is to build a machine learning model that predicts Apple's future stock prices for the years 1980 to 2021, using past data from Yahoo Finance. We will use Time Series Analysis and Exploratory Data Analysis (EDA) techniques to identify patterns, trends, and potential factors that influence Apple's historical stock performance. To measure our model's accuracy, we will use Mean Squared Error (MSE) and Root Mean Squared Error (RMSE), which quantify the accuracy of our predictions of actual stock prices. Additionally, our problem is highly replicable in financial markets, where investors and analysts often look for such forecasts to make their decisions. For an ML-relevant solution, we will use time series forecasting models like ARIMA, SARIMA, or LSTM networks. These models will analyze historical stock prices and relevant financial indicators to predict future stock movements."
      ]
    },
    {
      "cell_type": "markdown",
      "metadata": {
        "id": "5vVX_Nj8eIfE"
      },
      "source": [
        "# Data\n",
        "\n",
        "<!--Detail how/where you obtained the data and cleaned it (if necessary)\n",
        "\n",
        "If the data cleaning process is very long (e.g., elaborate text processing) consider describing it briefly here in text, and moving the actual clearning process to another notebook in your repo (include a link here!).  The idea behind this approach: this is a report, and if you blow up the flow of the report to include a lot of code it makes it hard to read.\n",
        "\n",
        "Please give the following infomration for each dataset you are using\n",
        "- link/reference to obtain it\n",
        "- description of the size of the dataset (# of variables, # of observations)\n",
        "- what an observation consists of\n",
        "- what some critical variables are, how they are represented\n",
        "- any special handling, transformations, cleaning, etc you have done should be demonstrated here!-->\n",
        "\n",
        "\n",
        "***Data Description: Apple Inc. Stock Prices (1980-2021)***\n",
        "\n",
        "- We will be using the historical stock prices of Apple, from December 11, 1980, to June 16, 2022. The dataset from Yahoo Finance consists of various metrics, including opening prices, closing prices, high prices, low prices, adjusted closing prices, and trading volumes for each trading day.\n",
        "\n",
        "***Dataset Information:***\n",
        "\n",
        "- Dataset Source: Apple Stock Price (1980-2021) Kaggle Dataset\n",
        "\n",
        "***Dataset Overview:***\n",
        "\n",
        "- Observations: The dataset has a total of 7 variables and 10,500 observations, where each observation represents daily stock metrics for Apple Inc.\n",
        "\n",
        "***Enhancing the analysis:***\n",
        "\n",
        "- Data Cleaning and Transformation: We may conduct data cleaning, handling missing values, and outliers, and ensuring the temporal integrity of the dataset for time-series analysis.\n",
        "- Normalize Prices: Standardize price data to easily compare volatility and returns across different stocks. This involves expressing price changes as percentages.\n",
        "- Adjust Stock Names: Use official names instead of tickers for better readability in reports.\n",
        "- Explore daily trading patterns in the dataset: Maybe look for more datasets with multiple observations per day for a more detailed analysis of short-term stock volatility."
      ]
    },
    {
      "cell_type": "code",
      "execution_count": 1,
      "metadata": {
        "id": "OolBL8B5eIfE",
        "outputId": "150959ac-dc7f-4986-d064-4f59b1254979"
      },
      "outputs": [
        {
          "name": "stdout",
          "output_type": "stream",
          "text": [
            "         Date      Open      High       Low     Close  Adj Close     Volume\n",
            "0  1980-12-12  0.128348  0.128906  0.128348  0.128348   0.100178  469033600\n",
            "1  1980-12-15  0.122210  0.122210  0.121652  0.121652   0.094952  175884800\n",
            "2  1980-12-16  0.113281  0.113281  0.112723  0.112723   0.087983  105728000\n",
            "3  1980-12-17  0.115513  0.116071  0.115513  0.115513   0.090160   86441600\n",
            "4  1980-12-18  0.118862  0.119420  0.118862  0.118862   0.092774   73449600\n"
          ]
        }
      ],
      "source": [
        "# Load the data\n",
        "import pandas as pd\n",
        "\n",
        "df = pd.read_csv('AAPL.csv') # load the dataset\n",
        "\n",
        "print(df.head())"
      ]
    },
    {
      "cell_type": "code",
      "execution_count": 2,
      "metadata": {
        "id": "W98nvp74eIfE",
        "outputId": "666af7d4-70c0-463d-f008-dcdf49be95e7"
      },
      "outputs": [
        {
          "data": {
            "text/html": [
              "<div>\n",
              "<style scoped>\n",
              "    .dataframe tbody tr th:only-of-type {\n",
              "        vertical-align: middle;\n",
              "    }\n",
              "\n",
              "    .dataframe tbody tr th {\n",
              "        vertical-align: top;\n",
              "    }\n",
              "\n",
              "    .dataframe thead th {\n",
              "        text-align: right;\n",
              "    }\n",
              "</style>\n",
              "<table border=\"1\" class=\"dataframe\">\n",
              "  <thead>\n",
              "    <tr style=\"text-align: right;\">\n",
              "      <th></th>\n",
              "      <th>Date</th>\n",
              "      <th>Open</th>\n",
              "      <th>High</th>\n",
              "      <th>Low</th>\n",
              "      <th>Close</th>\n",
              "      <th>Adj Close</th>\n",
              "      <th>Volume</th>\n",
              "    </tr>\n",
              "    <tr>\n",
              "      <th>Year</th>\n",
              "      <th></th>\n",
              "      <th></th>\n",
              "      <th></th>\n",
              "      <th></th>\n",
              "      <th></th>\n",
              "      <th></th>\n",
              "      <th></th>\n",
              "    </tr>\n",
              "  </thead>\n",
              "  <tbody>\n",
              "    <tr>\n",
              "      <th>1980</th>\n",
              "      <td>1980-12-12</td>\n",
              "      <td>0.128348</td>\n",
              "      <td>0.128906</td>\n",
              "      <td>0.128348</td>\n",
              "      <td>0.128348</td>\n",
              "      <td>0.100178</td>\n",
              "      <td>469033600</td>\n",
              "    </tr>\n",
              "    <tr>\n",
              "      <th>1980</th>\n",
              "      <td>1980-12-15</td>\n",
              "      <td>0.122210</td>\n",
              "      <td>0.122210</td>\n",
              "      <td>0.121652</td>\n",
              "      <td>0.121652</td>\n",
              "      <td>0.094952</td>\n",
              "      <td>175884800</td>\n",
              "    </tr>\n",
              "    <tr>\n",
              "      <th>1980</th>\n",
              "      <td>1980-12-16</td>\n",
              "      <td>0.113281</td>\n",
              "      <td>0.113281</td>\n",
              "      <td>0.112723</td>\n",
              "      <td>0.112723</td>\n",
              "      <td>0.087983</td>\n",
              "      <td>105728000</td>\n",
              "    </tr>\n",
              "    <tr>\n",
              "      <th>1980</th>\n",
              "      <td>1980-12-17</td>\n",
              "      <td>0.115513</td>\n",
              "      <td>0.116071</td>\n",
              "      <td>0.115513</td>\n",
              "      <td>0.115513</td>\n",
              "      <td>0.090160</td>\n",
              "      <td>86441600</td>\n",
              "    </tr>\n",
              "    <tr>\n",
              "      <th>1980</th>\n",
              "      <td>1980-12-18</td>\n",
              "      <td>0.118862</td>\n",
              "      <td>0.119420</td>\n",
              "      <td>0.118862</td>\n",
              "      <td>0.118862</td>\n",
              "      <td>0.092774</td>\n",
              "      <td>73449600</td>\n",
              "    </tr>\n",
              "    <tr>\n",
              "      <th>...</th>\n",
              "      <td>...</td>\n",
              "      <td>...</td>\n",
              "      <td>...</td>\n",
              "      <td>...</td>\n",
              "      <td>...</td>\n",
              "      <td>...</td>\n",
              "      <td>...</td>\n",
              "    </tr>\n",
              "    <tr>\n",
              "      <th>2022</th>\n",
              "      <td>2022-06-13</td>\n",
              "      <td>132.869995</td>\n",
              "      <td>135.199997</td>\n",
              "      <td>131.440002</td>\n",
              "      <td>131.880005</td>\n",
              "      <td>131.880005</td>\n",
              "      <td>122207100</td>\n",
              "    </tr>\n",
              "    <tr>\n",
              "      <th>2022</th>\n",
              "      <td>2022-06-14</td>\n",
              "      <td>133.130005</td>\n",
              "      <td>133.889999</td>\n",
              "      <td>131.479996</td>\n",
              "      <td>132.759995</td>\n",
              "      <td>132.759995</td>\n",
              "      <td>84784300</td>\n",
              "    </tr>\n",
              "    <tr>\n",
              "      <th>2022</th>\n",
              "      <td>2022-06-15</td>\n",
              "      <td>134.289993</td>\n",
              "      <td>137.339996</td>\n",
              "      <td>132.160004</td>\n",
              "      <td>135.429993</td>\n",
              "      <td>135.429993</td>\n",
              "      <td>91533000</td>\n",
              "    </tr>\n",
              "    <tr>\n",
              "      <th>2022</th>\n",
              "      <td>2022-06-16</td>\n",
              "      <td>132.080002</td>\n",
              "      <td>132.389999</td>\n",
              "      <td>129.039993</td>\n",
              "      <td>130.059998</td>\n",
              "      <td>130.059998</td>\n",
              "      <td>108123900</td>\n",
              "    </tr>\n",
              "    <tr>\n",
              "      <th>2022</th>\n",
              "      <td>2022-06-17</td>\n",
              "      <td>130.070007</td>\n",
              "      <td>133.080002</td>\n",
              "      <td>129.809998</td>\n",
              "      <td>131.559998</td>\n",
              "      <td>131.559998</td>\n",
              "      <td>134118500</td>\n",
              "    </tr>\n",
              "  </tbody>\n",
              "</table>\n",
              "<p>10468 rows × 7 columns</p>\n",
              "</div>"
            ],
            "text/plain": [
              "           Date        Open        High         Low       Close   Adj Close  \\\n",
              "Year                                                                          \n",
              "1980 1980-12-12    0.128348    0.128906    0.128348    0.128348    0.100178   \n",
              "1980 1980-12-15    0.122210    0.122210    0.121652    0.121652    0.094952   \n",
              "1980 1980-12-16    0.113281    0.113281    0.112723    0.112723    0.087983   \n",
              "1980 1980-12-17    0.115513    0.116071    0.115513    0.115513    0.090160   \n",
              "1980 1980-12-18    0.118862    0.119420    0.118862    0.118862    0.092774   \n",
              "...         ...         ...         ...         ...         ...         ...   \n",
              "2022 2022-06-13  132.869995  135.199997  131.440002  131.880005  131.880005   \n",
              "2022 2022-06-14  133.130005  133.889999  131.479996  132.759995  132.759995   \n",
              "2022 2022-06-15  134.289993  137.339996  132.160004  135.429993  135.429993   \n",
              "2022 2022-06-16  132.080002  132.389999  129.039993  130.059998  130.059998   \n",
              "2022 2022-06-17  130.070007  133.080002  129.809998  131.559998  131.559998   \n",
              "\n",
              "         Volume  \n",
              "Year             \n",
              "1980  469033600  \n",
              "1980  175884800  \n",
              "1980  105728000  \n",
              "1980   86441600  \n",
              "1980   73449600  \n",
              "...         ...  \n",
              "2022  122207100  \n",
              "2022   84784300  \n",
              "2022   91533000  \n",
              "2022  108123900  \n",
              "2022  134118500  \n",
              "\n",
              "[10468 rows x 7 columns]"
            ]
          },
          "execution_count": 2,
          "metadata": {},
          "output_type": "execute_result"
        }
      ],
      "source": [
        "df['Date'] = pd.to_datetime(df['Date'])\n",
        "\n",
        "# Extract year from the 'Date' column\n",
        "df['Year'] = df['Date'].dt.year\n",
        "df = df.set_index('Year')\n",
        "\n",
        "df"
      ]
    },
    {
      "cell_type": "code",
      "execution_count": 3,
      "metadata": {
        "id": "ncAZ-vBHeIfF"
      },
      "outputs": [],
      "source": [
        "df['Daily_Return'] = (df['Close'] - df['Open']) / df['Open']"
      ]
    },
    {
      "cell_type": "code",
      "execution_count": 4,
      "metadata": {
        "id": "hCcxvWxGeIfF",
        "outputId": "0f64a6c0-e79d-4182-8ce2-b2ae61a468ea"
      },
      "outputs": [
        {
          "data": {
            "text/html": [
              "<div>\n",
              "<style scoped>\n",
              "    .dataframe tbody tr th:only-of-type {\n",
              "        vertical-align: middle;\n",
              "    }\n",
              "\n",
              "    .dataframe tbody tr th {\n",
              "        vertical-align: top;\n",
              "    }\n",
              "\n",
              "    .dataframe thead th {\n",
              "        text-align: right;\n",
              "    }\n",
              "</style>\n",
              "<table border=\"1\" class=\"dataframe\">\n",
              "  <thead>\n",
              "    <tr style=\"text-align: right;\">\n",
              "      <th></th>\n",
              "      <th>Date</th>\n",
              "      <th>Open</th>\n",
              "      <th>High</th>\n",
              "      <th>Low</th>\n",
              "      <th>Close</th>\n",
              "      <th>Adj Close</th>\n",
              "      <th>Volume</th>\n",
              "      <th>Daily_Return</th>\n",
              "      <th>Overnight_Return</th>\n",
              "    </tr>\n",
              "    <tr>\n",
              "      <th>Year</th>\n",
              "      <th></th>\n",
              "      <th></th>\n",
              "      <th></th>\n",
              "      <th></th>\n",
              "      <th></th>\n",
              "      <th></th>\n",
              "      <th></th>\n",
              "      <th></th>\n",
              "      <th></th>\n",
              "    </tr>\n",
              "  </thead>\n",
              "  <tbody>\n",
              "    <tr>\n",
              "      <th>1980</th>\n",
              "      <td>1980-12-12</td>\n",
              "      <td>0.128348</td>\n",
              "      <td>0.128906</td>\n",
              "      <td>0.128348</td>\n",
              "      <td>0.128348</td>\n",
              "      <td>0.100178</td>\n",
              "      <td>469033600</td>\n",
              "      <td>0.000000</td>\n",
              "      <td>-0.219481</td>\n",
              "    </tr>\n",
              "    <tr>\n",
              "      <th>1980</th>\n",
              "      <td>1980-12-15</td>\n",
              "      <td>0.122210</td>\n",
              "      <td>0.122210</td>\n",
              "      <td>0.121652</td>\n",
              "      <td>0.121652</td>\n",
              "      <td>0.094952</td>\n",
              "      <td>175884800</td>\n",
              "      <td>-0.004566</td>\n",
              "      <td>-0.219479</td>\n",
              "    </tr>\n",
              "    <tr>\n",
              "      <th>1980</th>\n",
              "      <td>1980-12-16</td>\n",
              "      <td>0.113281</td>\n",
              "      <td>0.113281</td>\n",
              "      <td>0.112723</td>\n",
              "      <td>0.112723</td>\n",
              "      <td>0.087983</td>\n",
              "      <td>105728000</td>\n",
              "      <td>-0.004926</td>\n",
              "      <td>-0.219476</td>\n",
              "    </tr>\n",
              "    <tr>\n",
              "      <th>1980</th>\n",
              "      <td>1980-12-17</td>\n",
              "      <td>0.115513</td>\n",
              "      <td>0.116071</td>\n",
              "      <td>0.115513</td>\n",
              "      <td>0.115513</td>\n",
              "      <td>0.090160</td>\n",
              "      <td>86441600</td>\n",
              "      <td>0.000000</td>\n",
              "      <td>-0.219482</td>\n",
              "    </tr>\n",
              "    <tr>\n",
              "      <th>1980</th>\n",
              "      <td>1980-12-18</td>\n",
              "      <td>0.118862</td>\n",
              "      <td>0.119420</td>\n",
              "      <td>0.118862</td>\n",
              "      <td>0.118862</td>\n",
              "      <td>0.092774</td>\n",
              "      <td>73449600</td>\n",
              "      <td>0.000000</td>\n",
              "      <td>-0.219481</td>\n",
              "    </tr>\n",
              "    <tr>\n",
              "      <th>...</th>\n",
              "      <td>...</td>\n",
              "      <td>...</td>\n",
              "      <td>...</td>\n",
              "      <td>...</td>\n",
              "      <td>...</td>\n",
              "      <td>...</td>\n",
              "      <td>...</td>\n",
              "      <td>...</td>\n",
              "      <td>...</td>\n",
              "    </tr>\n",
              "    <tr>\n",
              "      <th>2022</th>\n",
              "      <td>2022-06-13</td>\n",
              "      <td>132.869995</td>\n",
              "      <td>135.199997</td>\n",
              "      <td>131.440002</td>\n",
              "      <td>131.880005</td>\n",
              "      <td>131.880005</td>\n",
              "      <td>122207100</td>\n",
              "      <td>-0.007451</td>\n",
              "      <td>0.000000</td>\n",
              "    </tr>\n",
              "    <tr>\n",
              "      <th>2022</th>\n",
              "      <td>2022-06-14</td>\n",
              "      <td>133.130005</td>\n",
              "      <td>133.889999</td>\n",
              "      <td>131.479996</td>\n",
              "      <td>132.759995</td>\n",
              "      <td>132.759995</td>\n",
              "      <td>84784300</td>\n",
              "      <td>-0.002779</td>\n",
              "      <td>0.000000</td>\n",
              "    </tr>\n",
              "    <tr>\n",
              "      <th>2022</th>\n",
              "      <td>2022-06-15</td>\n",
              "      <td>134.289993</td>\n",
              "      <td>137.339996</td>\n",
              "      <td>132.160004</td>\n",
              "      <td>135.429993</td>\n",
              "      <td>135.429993</td>\n",
              "      <td>91533000</td>\n",
              "      <td>0.008489</td>\n",
              "      <td>0.000000</td>\n",
              "    </tr>\n",
              "    <tr>\n",
              "      <th>2022</th>\n",
              "      <td>2022-06-16</td>\n",
              "      <td>132.080002</td>\n",
              "      <td>132.389999</td>\n",
              "      <td>129.039993</td>\n",
              "      <td>130.059998</td>\n",
              "      <td>130.059998</td>\n",
              "      <td>108123900</td>\n",
              "      <td>-0.015294</td>\n",
              "      <td>0.000000</td>\n",
              "    </tr>\n",
              "    <tr>\n",
              "      <th>2022</th>\n",
              "      <td>2022-06-17</td>\n",
              "      <td>130.070007</td>\n",
              "      <td>133.080002</td>\n",
              "      <td>129.809998</td>\n",
              "      <td>131.559998</td>\n",
              "      <td>131.559998</td>\n",
              "      <td>134118500</td>\n",
              "      <td>0.011455</td>\n",
              "      <td>0.000000</td>\n",
              "    </tr>\n",
              "  </tbody>\n",
              "</table>\n",
              "<p>10468 rows × 9 columns</p>\n",
              "</div>"
            ],
            "text/plain": [
              "           Date        Open        High         Low       Close   Adj Close  \\\n",
              "Year                                                                          \n",
              "1980 1980-12-12    0.128348    0.128906    0.128348    0.128348    0.100178   \n",
              "1980 1980-12-15    0.122210    0.122210    0.121652    0.121652    0.094952   \n",
              "1980 1980-12-16    0.113281    0.113281    0.112723    0.112723    0.087983   \n",
              "1980 1980-12-17    0.115513    0.116071    0.115513    0.115513    0.090160   \n",
              "1980 1980-12-18    0.118862    0.119420    0.118862    0.118862    0.092774   \n",
              "...         ...         ...         ...         ...         ...         ...   \n",
              "2022 2022-06-13  132.869995  135.199997  131.440002  131.880005  131.880005   \n",
              "2022 2022-06-14  133.130005  133.889999  131.479996  132.759995  132.759995   \n",
              "2022 2022-06-15  134.289993  137.339996  132.160004  135.429993  135.429993   \n",
              "2022 2022-06-16  132.080002  132.389999  129.039993  130.059998  130.059998   \n",
              "2022 2022-06-17  130.070007  133.080002  129.809998  131.559998  131.559998   \n",
              "\n",
              "         Volume  Daily_Return  Overnight_Return  \n",
              "Year                                             \n",
              "1980  469033600      0.000000         -0.219481  \n",
              "1980  175884800     -0.004566         -0.219479  \n",
              "1980  105728000     -0.004926         -0.219476  \n",
              "1980   86441600      0.000000         -0.219482  \n",
              "1980   73449600      0.000000         -0.219481  \n",
              "...         ...           ...               ...  \n",
              "2022  122207100     -0.007451          0.000000  \n",
              "2022   84784300     -0.002779          0.000000  \n",
              "2022   91533000      0.008489          0.000000  \n",
              "2022  108123900     -0.015294          0.000000  \n",
              "2022  134118500      0.011455          0.000000  \n",
              "\n",
              "[10468 rows x 9 columns]"
            ]
          },
          "execution_count": 4,
          "metadata": {},
          "output_type": "execute_result"
        }
      ],
      "source": [
        "df['Overnight_Return'] = (df['Adj Close'] - df['Close']) / df['Close']\n",
        "df"
      ]
    },
    {
      "cell_type": "code",
      "execution_count": 5,
      "metadata": {
        "id": "QzAeIjtaeIfF",
        "outputId": "1955707e-6b8f-4c68-ae5a-9aff5fda9f41"
      },
      "outputs": [
        {
          "name": "stdout",
          "output_type": "stream",
          "text": [
            "Date                0\n",
            "Open                0\n",
            "High                0\n",
            "Low                 0\n",
            "Close               0\n",
            "Adj Close           0\n",
            "Volume              0\n",
            "Daily_Return        0\n",
            "Overnight_Return    0\n",
            "dtype: int64\n"
          ]
        }
      ],
      "source": [
        "# Check for missing values\n",
        "print(df.isnull().sum())\n",
        "\n",
        "# Normalize the stock prices (if needed)\n",
        "from sklearn.preprocessing import MinMaxScaler\n",
        "\n",
        "scaler = MinMaxScaler(feature_range=(0, 1))\n",
        "df['Normalized_Price'] = scaler.fit_transform(df[['Close']])"
      ]
    },
    {
      "cell_type": "markdown",
      "metadata": {
        "id": "fgTnBj3TeIfF"
      },
      "source": [
        "# Proposed Solution\n",
        "\n",
        "<!--In this section, clearly describe a solution to the problem. The solution should be applicable to the project domain and appropriate for the dataset(s) or input(s) given. Provide enough detail (e.g., algorithmic description and/or theoretical properties) to convince us that your solution is applicable. Make sure to describe how the solution will be tested.  \n",
        "\n",
        "If you know details already, describe how (e.g., library used, function calls) you plan to implement the solution in a way that is reproducible.\n",
        "\n",
        "If it is appropriate to the problem statement, describe a benchmark model<a name=\"sota\"></a>[<sup>[3]</sup>](#sotanote) against which your solution will be compared. -->\n",
        "\n",
        "**Solution Overview:**\n",
        "\n",
        "Our solution aims to predict stock price movements using primarily unsupervised machine learning techniques. The focus will be on exploring the underlying patterns and structures in the stock market data without relying on labeled outcomes. The insights gained from unsupervised learning will then be used to inform a simple supervised model for price prediction.\n",
        "\n",
        "**Unsupervised Learning for Feature Extraction and Analysis**\n",
        "\n",
        "1. **Clustering for Market Segmentation**: We will use clustering algorithms, such as K-means and DBSCAN, to segment stocks based on historical price movements, trading volume, and other financial indicators. This will help us identify groups of stocks with similar behavior.\n",
        "\n",
        "2. **Dimensionality Reduction**: Principal Component Analysis (PCA) and t-Distributed Stochastic Neighbor Embedding (t-SNE) will be applied to reduce the dimensionality of the data while preserving its structure. This will assist in visualizing the stock market data and identifying key features.\n",
        "\n",
        "3. **Association Rule Mining**: We will explore association rule mining to uncover relationships between different stocks or financial indicators. This can reveal interesting patterns, such as stocks that tend to move together.\n",
        "\n",
        "4. **Anomaly Detection**: Techniques like Isolation Forest and One-Class SVM will be used to detect anomalies in the stock market data, which could indicate potential market disruptions or opportunities.\n",
        "\n",
        "**Supervised Learning for Price Prediction**\n",
        "\n",
        "After extracting insights and features using unsupervised techniques, we will employ a simple supervised learning model to predict stock price movements:\n",
        "\n",
        "1. **Logistic Regression**: Based on the features and patterns identified through unsupervised learning, we will use logistic regression to predict whether a stock's price will go up or down in the next trading period.\n",
        "\n",
        "**Model Evaluation**\n",
        "\n",
        "We will evaluate the performance of our unsupervised models using metrics such as silhouette score (for clustering quality) and reconstruction error (for dimensionality reduction). The supervised logistic regression model will be evaluated using accuracy, precision, recall, and F1 score.\n",
        "\n",
        "**Implementation Details**\n",
        "\n",
        "We plan to implement our solution using Python, with libraries such as `scikit-learn` for machine learning algorithms, `pandas` for data manipulation, and `matplotlib` and `seaborn` for data visualization. The implementation will include:\n",
        "\n",
        "1. **Data Preprocessing**: Loading the dataset, handling missing values, and normalizing the features.\n",
        "2. **Unsupervised Learning**: Applying clustering, dimensionality reduction, association rule mining, and anomaly detection techniques.\n",
        "3. **Feature Selection**: Selecting relevant features based on insights from unsupervised learning.\n",
        "4. **Supervised Learning**: Training and evaluating the logistic regression model.\n",
        "5. **Model Evaluation**: Assessing the performance of both unsupervised and supervised models.\n",
        "\n",
        "**Benchmark Model**\n",
        "\n",
        "For benchmarking, we will compare our unsupervised learning insights and logistic regression predictions against a simple moving average model, which is a common baseline in stock price prediction."
      ]
    },
    {
      "cell_type": "markdown",
      "metadata": {
        "id": "LBehNBQweIfF"
      },
      "source": [
        "# Evaluation Metrics\n",
        "\n",
        "<!--Propose at least one evaluation metric that can be used to quantify the performance of both the benchmark model and the solution model. The evaluation metric(s) you propose should be appropriate given the context of the data, the problem statement, and the intended solution. Describe how the evaluation metric(s) are derived and provide an example of their mathematical representations (if applicable). Complex evaluation metrics should be clearly defined and quantifiable (can be expressed in mathematical or logical terms).\n",
        "\n",
        "**Evaluation Metrics:**-->\n",
        "\n",
        "To quantify the performance of our machine learning models in predicting stock prices and categorizing stocks based on risk-return profiles, we will use the following evaluation metrics:\n",
        "\n",
        "1. **Silhouette Score**: This metric will be used to evaluate the quality of the clusters formed by our unsupervised learning algorithms. It measures how similar an object is to its own cluster compared to other clusters. The Silhouette Score ranges from -1 to 1, where a high value indicates that the object is well matched to its own cluster and poorly matched to neighboring clusters.\n",
        "\n",
        "   - Mathematical representation:\n",
        "     $$\n",
        "     s(i) = \\frac{b(i) - a(i)}{\\max\\{a(i), b(i)\\}}\n",
        "     $$\n",
        "     where $a(i)$ is the average distance from the $i$-th object to the other objects in the same cluster, and $b(i)$ is the minimum average distance from the $i$-th object to objects in a different cluster.\n",
        "\n",
        "2. **Mean Squared Error (MSE)**: For the supervised learning model that predicts stock prices, we will use MSE to measure the average of the squares of the errors between the predicted and actual prices. It is a common metric for regression models.\n",
        "\n",
        "   - Mathematical representation:\n",
        "     $$\n",
        "     \\text{MSE} = \\frac{1}{n} \\sum_{i=1}^{n} (y_i - \\hat{y}_i)^2\n",
        "     $$\n",
        "     where $y_i$ is the actual stock price and $\\hat{y}_i$ is the predicted stock price.\n",
        "\n",
        "3. **Root Mean Squared Error (RMSE)**: RMSE is the square root of MSE and provides a measure of the average error in the same units as the stock prices. It is useful for comparing the performance of different models.\n",
        "\n",
        "   - Mathematical representation:\n",
        "     $$\n",
        "     \\text{RMSE} = \\sqrt{\\text{MSE}}\n",
        "     $$\n",
        "\n",
        "4. **Portfolio Stability**: To evaluate the effectiveness of the unsupervised learning approach in optimizing investment portfolios, we will compare the stability of portfolios constructed based on the identified stock categories with those constructed using traditional methods. Portfolio stability can be measured in terms of the variance of portfolio returns over time.\n",
        "\n",
        "   - Mathematical representation:\n",
        "     $$\n",
        "     \\text{Portfolio Stability} = \\text{Var}(R_p)\n",
        "     $$\n",
        "     where $R_p$ is the return of the portfolio."
      ]
    },
    {
      "cell_type": "markdown",
      "metadata": {
        "id": "n0ubsHi7eIfF"
      },
      "source": [
        "# Results"
      ]
    },
    {
      "cell_type": "markdown",
      "metadata": {
        "id": "F1otjcEdeIfF"
      },
      "source": [
        "### Subsection 1: Dataset Analysis and Algorithm Selection\n",
        "\n",
        "**Reponse:** We are conducting a detailed analysis of the Apple Inc. stock price dataset. We'll explore its features, look for correlations, and identify trends that could inform our model selection. A comprehensive exploratory data analysis (EDA) will be performed to understand the characteristics and distribution of the data. Given the time-series nature of stock prices, we'll discuss why algorithms like ARIMA, or more traditional regression techniques are appropriate for predicting stock prices.\n",
        "\n",
        "### Subsection 2: Exploratora data Analysis (EDA)"
      ]
    },
    {
      "cell_type": "code",
      "execution_count": 6,
      "metadata": {
        "id": "Y8S83bMueIfF",
        "outputId": "b2dc2c13-1d89-4553-d278-8c7974856e0f"
      },
      "outputs": [
        {
          "data": {
            "image/png": "[encoded data removed]",
            "text/plain": [
              "<Figure size 1200x800 with 1 Axes>"
            ]
          },
          "metadata": {},
          "output_type": "display_data"
        }
      ],
      "source": [
        "# Exploratora data Analysis (EDA)\n",
        "\n",
        "import matplotlib.pyplot as plt\n",
        "\n",
        "# plot closing stock prices\n",
        "plt.figure(figsize=(12, 8))\n",
        "plt.plot(df.index, df['Close'])\n",
        "plt.title('Apple Inc. Stock Price')\n",
        "plt.xlabel('Year')\n",
        "plt.ylabel('Price')\n",
        "plt.show();"
      ]
    },
    {
      "cell_type": "markdown",
      "metadata": {
        "id": "4BKgJvMVeIfF"
      },
      "source": [
        "**Response:** We made a plot that represents the prices over time (1980 to 2022)to understand the correlation between price and years for Apple Inc. using EDA. The price has consistently increased from 1980 to 2021, but the data shows a decreasing pattern between 2021 to 2022.\n",
        "\n",
        "### Subsection 3: Baseline Model Performance"
      ]
    },
    {
      "cell_type": "code",
      "execution_count": 7,
      "metadata": {
        "id": "ycFpKJkReIfF",
        "outputId": "75585229-da8e-4f83-8473-472bab629839"
      },
      "outputs": [
        {
          "name": "stderr",
          "output_type": "stream",
          "text": [
            "/Users/derricklin/anaconda3/lib/python3.11/site-packages/statsmodels/tsa/base/tsa_model.py:473: ValueWarning: An unsupported index was provided and will be ignored when e.g. forecasting.\n",
            "  self._init_dates(dates, freq)\n",
            "/Users/derricklin/anaconda3/lib/python3.11/site-packages/statsmodels/tsa/base/tsa_model.py:473: ValueWarning: An unsupported index was provided and will be ignored when e.g. forecasting.\n",
            "  self._init_dates(dates, freq)\n",
            "/Users/derricklin/anaconda3/lib/python3.11/site-packages/statsmodels/tsa/base/tsa_model.py:473: ValueWarning: An unsupported index was provided and will be ignored when e.g. forecasting.\n",
            "  self._init_dates(dates, freq)\n"
          ]
        },
        {
          "name": "stdout",
          "output_type": "stream",
          "text": [
            "                               SARIMAX Results                                \n",
            "==============================================================================\n",
            "Dep. Variable:       Normalized_Price   No. Observations:                10468\n",
            "Model:                 ARIMA(1, 1, 1)   Log Likelihood               43451.477\n",
            "Date:                Tue, 13 May 2025   AIC                         -86896.954\n",
            "Time:                        16:54:54   BIC                         -86875.186\n",
            "Sample:                             0   HQIC                        -86889.603\n",
            "                              - 10468                                         \n",
            "Covariance Type:                  opg                                         \n",
            "==============================================================================\n",
            "                 coef    std err          z      P>|z|      [0.025      0.975]\n",
            "------------------------------------------------------------------------------\n",
            "ar.L1          0.2059      0.034      6.062      0.000       0.139       0.272\n",
            "ma.L1         -0.2649      0.034     -7.862      0.000      -0.331      -0.199\n",
            "sigma2      1.451e-05   3.79e-08    383.202      0.000    1.44e-05    1.46e-05\n",
            "===================================================================================\n",
            "Ljung-Box (L1) (Q):                   0.00   Jarque-Bera (JB):           1290916.09\n",
            "Prob(Q):                              0.97   Prob(JB):                         0.00\n",
            "Heteroskedasticity (H):           19754.93   Skew:                            -0.25\n",
            "Prob(H) (two-sided):                  0.00   Kurtosis:                        57.40\n",
            "===================================================================================\n",
            "\n",
            "Warnings:\n",
            "[1] Covariance matrix calculated using the outer product of gradients (complex-step).\n"
          ]
        }
      ],
      "source": [
        "# model building\n",
        "from statsmodels.tsa.arima.model import ARIMA\n",
        "\n",
        "model = ARIMA(df['Normalized_Price'], order=(1, 1, 1)) # Fit an ARIMA model; the order (p,d,q) needs to be optimized\n",
        "model_fit = model.fit()\n",
        "\n",
        "print(model_fit.summary())"
      ]
    },
    {
      "cell_type": "code",
      "execution_count": 8,
      "metadata": {
        "id": "L_fgMBjFeIfG",
        "outputId": "2fb008df-c7ac-42ef-b0a6-4370c0882c5a"
      },
      "outputs": [
        {
          "name": "stdout",
          "output_type": "stream",
          "text": [
            "MSE: 0.00011421255331926562, RMSE: 0.010687027337817828\n"
          ]
        },
        {
          "name": "stderr",
          "output_type": "stream",
          "text": [
            "/Users/derricklin/anaconda3/lib/python3.11/site-packages/statsmodels/tsa/base/tsa_model.py:836: ValueWarning: No supported index is available. Prediction results will be given with an integer index beginning at `start`.\n",
            "  return get_prediction_index(\n",
            "/Users/derricklin/anaconda3/lib/python3.11/site-packages/statsmodels/tsa/base/tsa_model.py:836: FutureWarning: No supported index is available. In the next version, calling this method in a model without a supported index will result in an exception.\n",
            "  return get_prediction_index(\n"
          ]
        }
      ],
      "source": [
        "# Evaluate model using MSE and RMSE\n",
        "from sklearn.metrics import mean_squared_error\n",
        "from math import sqrt\n",
        "\n",
        "# Make predictions\n",
        "predictions = model_fit.forecast(steps=5)  # forecast next 5\n",
        "\n",
        "# Select the actual last 5 values from the dataset for comparison\n",
        "actual = df['Normalized_Price'].iloc[-5:]\n",
        "\n",
        "mse = mean_squared_error(actual, predictions)\n",
        "rmse = sqrt(mse)\n",
        "\n",
        "print(f'MSE: {mse}, RMSE: {rmse}')"
      ]
    },
    {
      "cell_type": "markdown",
      "metadata": {
        "id": "En0LkB3PeIfG"
      },
      "source": [
        "**Response:**  We have established a baseline model, using a naive forecast where tomorrow's price is assumed to be today's price. We'll measure the performance of this baseline model using metrics such as MSE and RMSE. This will set the stage for comparison with more sophisticated models later on. When forecasting the next five days of stock prices using our ARIMA model, we observed the following performance metrics:\n",
        "\n",
        "Model MSE: 0.00081141255319326562\n",
        "Model RMSE: 0.01068702773817828\n",
        "\n",
        "### Subsection 4: Benchmark Model Comparsion"
      ]
    },
    {
      "cell_type": "code",
      "execution_count": 9,
      "metadata": {
        "id": "o5i9n68geIfG",
        "outputId": "3e1654ad-a35c-4caf-f186-05edcbcde405"
      },
      "outputs": [
        {
          "name": "stdout",
          "output_type": "stream",
          "text": [
            "Benchmark MSE: 0.46975666970953117\n",
            "Benchmark RMSE: 0.6853879702106911\n",
            "Model MSE: 0.4698015511693662\n",
            "Model RMSE: 0.6854207110741302\n"
          ]
        }
      ],
      "source": [
        "# Benchmark model\n",
        "\n",
        "# Shift the current price to the next day for a naive forecast\n",
        "df['Naive_Forecast'] = df['Adj Close'].shift(1)\n",
        "\n",
        "# Calculate the Mean Squared Error and Root Mean Squared Error for the benchmark model\n",
        "mse_benchmark = ((df['Adj Close'] - df['Naive_Forecast']) ** 2).mean()\n",
        "rmse_benchmark = mse_benchmark ** 0.5\n",
        "\n",
        "print(f\"Benchmark MSE: {mse_benchmark}\")\n",
        "print(f\"Benchmark RMSE: {rmse_benchmark}\")\n",
        "\n",
        "df['Predicted_Price'] = df['Adj Close'].shift(-1)  # Shifting upward to create a prediction for the next day\n",
        "mse_model = ((df['Adj Close'][1:-1] - df['Predicted_Price'][1:-1]) ** 2).mean()\n",
        "rmse_model = mse_model ** 0.5\n",
        "print(f\"Model MSE: {mse_model}\")\n",
        "print(f\"Model RMSE: {rmse_model}\")"
      ]
    },
    {
      "cell_type": "code",
      "execution_count": 10,
      "metadata": {
        "id": "93mQFEHbeIfG",
        "outputId": "6683fa34-99f2-42cd-ad41-5a4fc5c6e1d7"
      },
      "outputs": [
        {
          "name": "stdout",
          "output_type": "stream",
          "text": [
            "Difference in MSE: 4.488145983505554e-05\n",
            "Difference in RMSE: 3.2740863439073564e-05\n"
          ]
        }
      ],
      "source": [
        "# Compare benchmark with our models\n",
        "print(f\"Difference in MSE: {mse_model - mse_benchmark}\")\n",
        "print(f\"Difference in RMSE: {rmse_model - rmse_benchmark}\")"
      ]
    },
    {
      "cell_type": "markdown",
      "metadata": {
        "id": "crtvA3moeIfG"
      },
      "source": [
        "**Response:** We compared predictive models' metrics against those of a simple naive benchmark model. The benchmark model assumes that tomorrow stock price will be the same as today, provides as a baseline for assessing the effectiveness of our more complex models. These results were then compared to our naive benchmark:\n",
        "\n",
        "Benchmark MSE: 0.46975666970953117\n",
        "Benchmark RMSE: 0.6853879720616911\n",
        "\n",
        "Difference in MSE: 4.488145983505554e-05\n",
        "Difference in RMSE: 3.2740863439073564e-05"
      ]
    },
    {
      "cell_type": "code",
      "execution_count": 11,
      "metadata": {},
      "outputs": [
        {
          "name": "stdout",
          "output_type": "stream",
          "text": [
            "Directional Accuracy: 47.06%\n"
          ]
        },
        {
          "name": "stderr",
          "output_type": "stream",
          "text": [
            "/var/folders/gr/lxv_0bss72g0cdbpdzx5pw7m0000gn/T/ipykernel_78307/2947074714.py:5: FutureWarning: The default fill_method='pad' in Series.pct_change is deprecated and will be removed in a future version. Either fill in any non-leading NA values prior to calling pct_change or specify 'fill_method=None' to not fill NA values.\n",
            "  df['Predicted_Return'] = df['Predicted_Price'].pct_change()\n"
          ]
        }
      ],
      "source": [
        "# Calculate actual daily returns (using Adj Close for consistency)\n",
        "df['Actual_Return'] = df['Adj Close'].pct_change()\n",
        "\n",
        "# Calculate predicted daily returns (shift predictions to align with actuals)\n",
        "df['Predicted_Return'] = df['Predicted_Price'].pct_change()\n",
        "\n",
        "# Drop rows with NaN values (first row and any missing predictions)\n",
        "df_direction = df.dropna(subset=['Actual_Return', 'Predicted_Return'])\n",
        "\n",
        "# Calculate directional accuracy\n",
        "correct_direction = (\n",
        "    (df_direction['Actual_Return'] > 0) & (df_direction['Predicted_Return'] > 0)\n",
        ") | (\n",
        "    (df_direction['Actual_Return'] < 0) & (df_direction['Predicted_Return'] < 0)\n",
        ")\n",
        "\n",
        "directional_accuracy = correct_direction.sum() / len(correct_direction)\n",
        "print(f\"Directional Accuracy: {directional_accuracy:.2%}\")"
      ]
    },
    {
      "cell_type": "markdown",
      "metadata": {},
      "source": [
        "# Directional Accuracy\n",
        "Directional accuracy measures how often our model correctly predicts the direction of Apple’s stock price movement (up or down) from one day to the next. In our analysis, the model achieved a directional accuracy of 47.06%.\n",
        "\n",
        "## What Does This Mean?\n",
        "A directional accuracy of 47.06% means that the model correctly predicted whether the stock price would increase or decrease on the following day in about 47 out of every 100 trading days. In other words, the model’s predictions about the direction of price movement were correct less than half the time."
      ]
    },
    {
      "cell_type": "markdown",
      "metadata": {},
      "source": [
        "# Improving our Directional Accuracy"
      ]
    },
    {
      "cell_type": "code",
      "execution_count": 14,
      "metadata": {},
      "outputs": [
        {
          "name": "stdout",
          "output_type": "stream",
          "text": [
            "Directional Accuracy: 52.77%\n"
          ]
        },
        {
          "name": "stderr",
          "output_type": "stream",
          "text": [
            "/var/folders/gr/lxv_0bss72g0cdbpdzx5pw7m0000gn/T/ipykernel_78307/320220601.py:2: SettingWithCopyWarning: \n",
            "A value is trying to be set on a copy of a slice from a DataFrame.\n",
            "Try using .loc[row_indexer,col_indexer] = value instead\n",
            "\n",
            "See the caveats in the documentation: https://pandas.pydata.org/pandas-docs/stable/user_guide/indexing.html#returning-a-view-versus-a-copy\n",
            "  df['Direction'] = (df['Close'].shift(-1) > df['Close']).astype(int)\n"
          ]
        }
      ],
      "source": [
        "# 1. Create the target variable\n",
        "df['Direction'] = (df['Close'].shift(-1) > df['Close']).astype(int)\n",
        "\n",
        "# 2. Select features you already have\n",
        "features = ['Close', 'Open', 'High', 'Low', 'Volume', 'Daily_Return', 'Overnight_Return']\n",
        "\n",
        "# 3. Drop rows with missing values in features or target\n",
        "df_model = df.dropna(subset=features + ['Direction'])\n",
        "\n",
        "# 4. Prepare X and y\n",
        "X = df_model[features]\n",
        "y = df_model['Direction']\n",
        "\n",
        "# 5. Time series train/test split (no shuffle)\n",
        "split_idx = int(len(X) * 0.8)\n",
        "X_train, X_test = X.iloc[:split_idx], X.iloc[split_idx:]\n",
        "y_train, y_test = y.iloc[:split_idx], y.iloc[split_idx:]\n",
        "\n",
        "# 6. Fit logistic regression and evaluate\n",
        "from sklearn.linear_model import LogisticRegression\n",
        "\n",
        "clf = LogisticRegression(max_iter=1000)\n",
        "clf.fit(X_train, y_train)\n",
        "y_pred = clf.predict(X_test)\n",
        "\n",
        "directional_accuracy = (y_pred == y_test).mean()\n",
        "print(f\"Directional Accuracy: {directional_accuracy:.2%}\")"
      ]
    },
    {
      "cell_type": "markdown",
      "metadata": {},
      "source": [
        "# How I improved Directional Accuracy\n",
        "\n",
        "After implementing a simple logistic regression model using only features already present in our dataset, we observed a notable improvement in directional accuracy from 47.06% to 52.77%. This increase demonstrates that even basic machine learning techniques, when applied thoughtfully to relevant features, can enhance our ability to predict the direction of Apple’s stock price movements. By reframing the problem as a classification task (predicting whether the next day’s price will go up or down) and leveraging multiple features such as price, volume, and daily returns, the model was able to capture more nuanced patterns in the data. Achieving a directional accuracy above 50% suggests that the model is now performing better than random guessing, providing a modest but meaningful predictive edge."
      ]
    },
    {
      "cell_type": "markdown",
      "metadata": {
        "id": "VKJuFAoLeIfG"
      },
      "source": [
        "# Discussion\n",
        "\n",
        "### Interpreting the result\n",
        "\n",
        "<!--OK, you've given us quite a bit of tech informaiton above, now its time to tell us what to pay attention to in all that.  Think clearly about your results, decide on one main point and 2-4 secondary points you want us to understand. Highlight HOW your results support those points.  You probably want 2-5 sentences per point.-->\n",
        "\n",
        "**Main Point**:\n",
        "\n",
        "The comparison between our ARIMA model and the naive benchmark model suggests that our ARIMA model performs slightly better in predicting Apple's stock prices, as supported by its slightly lower MSE and RMSE values. However, the improvement in predictive accuracy over the simpler benchmark model is not significant, despite the ARIMA model's added complexity.\n",
        "\n",
        "\n",
        "**Secondary Points**:\n",
        "\n",
        "Model Performance: Although the ARIMA model is slightly better than the benchmark, both models shows relatively low MSE and RMSE values, which means that they reasonably capture the general trends in Apple's stock prices. This implies that while more complex models may provide additional improvement, simple approaches can yield useful predictions.\n",
        "\n",
        "Validating Model Effectiveness: Conducting comparisons against simpler models allows us to evaluate whether the increased complexity of advanced techniques, such as ARIMA, results in a significant improvement in predictive accuracy. By quantifying the differences in performance metrics between the ARIMA model and the benchmark, we understand the added value of employing advanced techniques in stock price prediction.\n",
        "\n",
        "Practical Implications: While the ARIMA model outperforms the naive benchmark, the differences in MSE and RMSE are relatively small. This suggests that investors and analysts may need to consider factors beyond predictive accuracy, such as model complexity and computational resources when selecting a suitable forecasting approach.\n",
        "\n",
        "\n",
        "### Limitations\n",
        "\n",
        "As the ARIMA prediction model relies on historical data to make predictions, it is only natural that the predictions will be based on the data that was fed to the model.\n",
        "Therefore, while it may make accurate predictions given the past data of apple stocks, it can’t be said that this model would remain accurate in the future.\n",
        "As with all prediction models, it cannot account for any sudden changes that may occur in the future.\n",
        "For example, if we had tried to use this ARIMA prediction model to predict the change in Apple’s stock prices from 2018 and onward, the model wouldn’t have been able to take into account the COVID-19 pandemic that started in 2019.\n",
        "The unexpected changes that might come in the future is unpredictable, and a main limitation that comes with predictions.\n"
      ]
    },
    {
      "cell_type": "markdown",
      "metadata": {
        "id": "ppQG6LkVeIfG"
      },
      "source": [
        "# Ethics & Privacy\n",
        "\n",
        "If your project has obvious potential concerns with ethics or data privacy discuss that here.  Almost every ML project put into production can have ethical implications if you use your imagination. Use your imagination.\n",
        "\n",
        "Even if you can't come up with an obvious ethical concern that should be addressed, you should know that a large number of ML projects that go into producation have unintended consequences and ethical problems once in production. How will your team address these issues?\n",
        "\n",
        "Consider a tool to help you address the potential issues such as https://deon.drivendata.org\n",
        "\n",
        "**Ethics and Privacy:**\n",
        "\n",
        "In developing a machine learning model to predict stock prices, we are committed to upholding the highest ethical standards and ensuring the privacy and security of the data used. Our approach is guided by the following principles:\n",
        "\n",
        "- **Data Source Transparency:** We will only use publicly available financial data from reputable sources, such as stock exchanges, financial news websites, and government reports. We will clearly document the sources of our data to ensure transparency and accountability.\n",
        "\n",
        "- **Anonymity and Privacy:** While stock market data is generally anonymized and does not contain personal information, we will rigorously review the datasets to ensure that there is no indirect way to identify individuals or private entities. Any data that could potentially lead to identification will be further anonymized or excluded from our analysis.\n",
        "\n",
        "- **Informed Consent:** For any data that may involve individual contributors or proprietary information, we will ensure that informed consent has been obtained. This includes clear communication about the purpose of the data collection and the intended use of the data in our project.\n",
        "\n",
        "- **Bias and Fairness:** We recognize that financial markets can be influenced by a wide range of factors, including economic, political, and social elements. We will critically assess our model for any biases that may arise from the data or the algorithms used. Efforts will be made to ensure that our predictions do not inadvertently favor or disadvantage any particular group or individual.\n",
        "\n",
        "- **Responsible Use of Predictions:** We are aware of the potential impact that stock price predictions can have on individuals, companies, and the economy. Our project is intended for academic purposes and should not be used as financial advice. We will clearly communicate the limitations and uncertainties of our predictions to prevent misuse or overreliance on our model.\n",
        "\n",
        "- **Compliance with Regulations:** We will adhere to all relevant laws and regulations related to financial data and securities trading. This includes respecting insider trading laws and ensuring that our project does not contribute to market manipulation or other unethical practices.\n",
        "\n",
        "By adhering to these principles, we aim to conduct our project with integrity and respect for the privacy and rights of all stakeholders involved."
      ]
    },
    {
      "cell_type": "markdown",
      "metadata": {
        "id": "P9uyKMCheIfG"
      },
      "source": [
        "# Conclusion\n",
        "\n",
        "Comparing the RMSE and MSE values between the naive benchmark model and the ARMIA model, we can see that the ARIMA model seems to perform slightly better than the naive benchmark model in predicting the Apple stock values.\n",
        "This can be concluded by observing that the RMSE and MSE values of the ARIMA model is slightly lower than the RMSE and MSE values of the naive benchmark model.\n",
        "Considering the performance of the ARIMA model, there might be a need to explore other factors such as computing resources in comparison the amount of increased performance in a model, before determining if one model should be chosen over another.\n"
      ]
    },
    {
      "cell_type": "markdown",
      "metadata": {
        "id": "qSPLfy-MeIfG"
      },
      "source": [
        "# Footnotes\n",
        "<a name=\"lorenznote\"></a>1.[^](#simplilearn): Biswal, Avijeet (2023) *Stock Price Prediction using Machine Learning* https://www.simplilearn.com/tutorials/machine-learning-tutorial/stock-price-prediction-using-machine-learning#what_is_the_stock_market<br>\n",
        "<a name=\"admonishnote\"></a>2.[^](#projectpro): Raval, Param (2024) *Stock Price Predicition using Machine Learning with Source Code* https://www.projectpro.io/article/stock-price-prediction-using-machine-learning-project/571<br>\n",
        "<a name=\"sotanote\"></a>3.[^](#neptuneai): Li, Katherene (2023) *Predicting Stock Prices using Machine Learning*\n",
        "\n",
        "<a name=\"MEETNAGADIA\"></a>4.[^](#sdsu): Dehaven, Addison (2023) *SDSU researchers develop AI-powered model to predict stock market trends* https://www.sdstate.edu/news/2023/11/sdsu-researchers-develop-ai-powered-model-predict-stock-market-trends\n",
        "\n",
        "<a name=\"Meet Nagadia\"></a>5.[^](#Kaggle): Meet, Nagadia (2022) *Apple Stock Price from 1980-2021* https://www.kaggle.com/datasets/meetnagadia/apple-stock-price-from-19802021\n"
      ]
    }
  ],
  "metadata": {
    "colab": {
      "provenance": []
    },
    "kernelspec": {
      "display_name": "base",
      "language": "python",
      "name": "python3"
    },
    "language_info": {
      "codemirror_mode": {
        "name": "ipython",
        "version": 3
      },
      "file_extension": ".py",
      "mimetype": "text/x-python",
      "name": "python",
      "nbconvert_exporter": "python",
      "pygments_lexer": "ipython3",
      "version": "3.11.8"
    }
  },
  "nbformat": 4,
  "nbformat_minor": 0
}
